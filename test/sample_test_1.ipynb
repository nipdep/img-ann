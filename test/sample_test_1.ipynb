{
 "cells": [
  {
   "cell_type": "code",
   "execution_count": 3,
   "metadata": {
    "collapsed": true
   },
   "outputs": [],
   "source": [
    "from src.ImgAnn.sample import Sample"
   ]
  },
  {
   "cell_type": "code",
   "execution_count": 4,
   "outputs": [
    {
     "ename": "IndexError",
     "evalue": "list index out of range",
     "output_type": "error",
     "traceback": [
      "\u001B[1;31m---------------------------------------------------------------------------\u001B[0m",
      "\u001B[1;31mIndexError\u001B[0m                                Traceback (most recent call last)",
      "\u001B[1;32m<ipython-input-4-a0806a4e6785>\u001B[0m in \u001B[0;36m<module>\u001B[1;34m\u001B[0m\n\u001B[0;32m      1\u001B[0m Sample.show_samples('F:\\JetBrain Project Files\\Pycharm\\security-point-object-detecton-Torch\\data\\data\\Common',\n\u001B[1;32m----> 2\u001B[1;33m                     'F:\\JetBrain Project Files\\Pycharm\\security-point-object-detecton-Torch\\data\\COCO\\dataset.json')\n\u001B[0m\u001B[0;32m      3\u001B[0m \u001B[1;33m\u001B[0m\u001B[0m\n",
      "\u001B[1;32mF:\\JetBrain Project Files\\Pycharm\\img-ann\\src\\ImgAnn\\sample.py\u001B[0m in \u001B[0;36mshow_samples\u001B[1;34m(cls, data_path, ann_path, ann_type, num_of_samples)\u001B[0m\n\u001B[0;32m     44\u001B[0m         \u001B[1;32mfor\u001B[0m \u001B[0mi\u001B[0m \u001B[1;32min\u001B[0m \u001B[0mrange\u001B[0m\u001B[1;33m(\u001B[0m\u001B[0mlen\u001B[0m\u001B[1;33m(\u001B[0m\u001B[0mpaths\u001B[0m\u001B[1;33m)\u001B[0m\u001B[1;33m)\u001B[0m\u001B[1;33m:\u001B[0m\u001B[1;33m\u001B[0m\u001B[1;33m\u001B[0m\u001B[0m\n\u001B[0;32m     45\u001B[0m             \u001B[0mpath\u001B[0m \u001B[1;33m=\u001B[0m \u001B[0mpaths\u001B[0m\u001B[1;33m[\u001B[0m\u001B[0mi\u001B[0m\u001B[1;33m]\u001B[0m\u001B[1;33m\u001B[0m\u001B[1;33m\u001B[0m\u001B[0m\n\u001B[1;32m---> 46\u001B[1;33m             \u001B[0mobj_data\u001B[0m \u001B[1;33m=\u001B[0m \u001B[0mobj_list\u001B[0m\u001B[1;33m[\u001B[0m\u001B[0mi\u001B[0m\u001B[1;33m]\u001B[0m\u001B[1;33m\u001B[0m\u001B[1;33m\u001B[0m\u001B[0m\n\u001B[0m\u001B[0;32m     47\u001B[0m             \u001B[1;31m# print(cat_dict, obj_data[\"category_id\"])\u001B[0m\u001B[1;33m\u001B[0m\u001B[1;33m\u001B[0m\u001B[1;33m\u001B[0m\u001B[0m\n\u001B[0;32m     48\u001B[0m             \u001B[0mcat_name\u001B[0m \u001B[1;33m=\u001B[0m \u001B[1;33m[\u001B[0m\u001B[0mcat_dict\u001B[0m\u001B[1;33m[\u001B[0m\u001B[0mj\u001B[0m\u001B[1;33m]\u001B[0m \u001B[1;32mfor\u001B[0m \u001B[0mj\u001B[0m \u001B[1;32min\u001B[0m \u001B[0mobj_data\u001B[0m\u001B[1;33m[\u001B[0m\u001B[1;34m\"category_id\"\u001B[0m\u001B[1;33m]\u001B[0m\u001B[1;33m]\u001B[0m\u001B[1;33m\u001B[0m\u001B[1;33m\u001B[0m\u001B[0m\n",
      "\u001B[1;31mIndexError\u001B[0m: list index out of range"
     ]
    }
   ],
   "source": [
    "Sample.show_samples('F:\\JetBrain Project Files\\Pycharm\\security-point-object-detecton-Torch\\data\\data\\Common',\n",
    "                    'F:\\JetBrain Project Files\\Pycharm\\security-point-object-detecton-Torch\\data\\COCO\\dataset.json')"
   ],
   "metadata": {
    "collapsed": false,
    "pycharm": {
     "name": "#%%\n"
    }
   }
  },
  {
   "cell_type": "code",
   "execution_count": 1,
   "outputs": [],
   "source": [
    "from src.ImgAnn.operators.ImgData import ImgData\n",
    "# obj = ImgData('','')\n",
    "# obj.ext_folders('../../logs/ImgAnn/operators')\n",
    "img_obj = ImgData.extract('F:\\JetBrain Project Files\\Pycharm\\security-point-object-detecton-Torch\\data\\data')"
   ],
   "metadata": {
    "collapsed": false,
    "pycharm": {
     "name": "#%%\n"
    }
   }
  },
  {
   "cell_type": "code",
   "execution_count": 2,
   "outputs": [
    {
     "data": {
      "text/plain": "(2000, 3)"
     },
     "execution_count": 2,
     "metadata": {},
     "output_type": "execute_result"
    }
   ],
   "source": [
    "df = img_obj.dataset\n",
    "df.shape"
   ],
   "metadata": {
    "collapsed": false,
    "pycharm": {
     "name": "#%%\n"
    }
   }
  },
  {
   "cell_type": "code",
   "execution_count": 3,
   "outputs": [
    {
     "data": {
      "text/plain": "              name        folder  \\\n162  common244.jpg        Common   \n189  common269.jpg        Common   \n280   common66.jpg        Common   \n389     key163.jpg           Key   \n938    phone86.jpg  Mobile Phone   \n\n                                                  path  \n162  F:\\JetBrain Project Files\\Pycharm\\security-poi...  \n189  F:\\JetBrain Project Files\\Pycharm\\security-poi...  \n280  F:\\JetBrain Project Files\\Pycharm\\security-poi...  \n389  F:\\JetBrain Project Files\\Pycharm\\security-poi...  \n938  F:\\JetBrain Project Files\\Pycharm\\security-poi...  ",
      "text/html": "<div>\n<style scoped>\n    .dataframe tbody tr th:only-of-type {\n        vertical-align: middle;\n    }\n\n    .dataframe tbody tr th {\n        vertical-align: top;\n    }\n\n    .dataframe thead th {\n        text-align: right;\n    }\n</style>\n<table border=\"1\" class=\"dataframe\">\n  <thead>\n    <tr style=\"text-align: right;\">\n      <th></th>\n      <th>name</th>\n      <th>folder</th>\n      <th>path</th>\n    </tr>\n  </thead>\n  <tbody>\n    <tr>\n      <th>162</th>\n      <td>common244.jpg</td>\n      <td>Common</td>\n      <td>F:\\JetBrain Project Files\\Pycharm\\security-poi...</td>\n    </tr>\n    <tr>\n      <th>189</th>\n      <td>common269.jpg</td>\n      <td>Common</td>\n      <td>F:\\JetBrain Project Files\\Pycharm\\security-poi...</td>\n    </tr>\n    <tr>\n      <th>280</th>\n      <td>common66.jpg</td>\n      <td>Common</td>\n      <td>F:\\JetBrain Project Files\\Pycharm\\security-poi...</td>\n    </tr>\n    <tr>\n      <th>389</th>\n      <td>key163.jpg</td>\n      <td>Key</td>\n      <td>F:\\JetBrain Project Files\\Pycharm\\security-poi...</td>\n    </tr>\n    <tr>\n      <th>938</th>\n      <td>phone86.jpg</td>\n      <td>Mobile Phone</td>\n      <td>F:\\JetBrain Project Files\\Pycharm\\security-poi...</td>\n    </tr>\n  </tbody>\n</table>\n</div>"
     },
     "execution_count": 3,
     "metadata": {},
     "output_type": "execute_result"
    }
   ],
   "source": [
    "sample_df = img_obj.sample_dataset(10)\n",
    "sample_df.head()"
   ],
   "metadata": {
    "collapsed": false,
    "pycharm": {
     "name": "#%%\n"
    }
   }
  },
  {
   "cell_type": "code",
   "execution_count": 2,
   "outputs": [
    {
     "data": {
      "text/plain": "62951"
     },
     "execution_count": 2,
     "metadata": {},
     "output_type": "execute_result"
    }
   ],
   "source": [
    "import os\n",
    "os.path.getsize('F:\\JetBrain Project Files\\Pycharm\\security-point-object-detecton-Torch\\data\\data\\Common\\common1.jpg')"
   ],
   "metadata": {
    "collapsed": false,
    "pycharm": {
     "name": "#%%\n"
    }
   }
  },
  {
   "cell_type": "code",
   "execution_count": null,
   "outputs": [],
   "source": [],
   "metadata": {
    "collapsed": false,
    "pycharm": {
     "name": "#%%\n"
    }
   }
  }
 ],
 "metadata": {
  "kernelspec": {
   "display_name": "Python 3",
   "language": "python",
   "name": "python3"
  },
  "language_info": {
   "codemirror_mode": {
    "name": "ipython",
    "version": 2
   },
   "file_extension": ".py",
   "mimetype": "text/x-python",
   "name": "python",
   "nbconvert_exporter": "python",
   "pygments_lexer": "ipython2",
   "version": "2.7.6"
  }
 },
 "nbformat": 4,
 "nbformat_minor": 0
}
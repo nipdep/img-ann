{
 "cells": [
  {
   "cell_type": "code",
   "execution_count": 1,
   "metadata": {
    "collapsed": true
   },
   "outputs": [],
   "source": [
    "import pandas as pd\n"
   ]
  },
  {
   "cell_type": "code",
   "execution_count": 37,
   "outputs": [
    {
     "data": {
      "text/plain": "                                            filename  width  height   class  \\\n0  000097_jpg.rf.c5517dee207753214ab5f1f847987bbb...    416     416  helmet   \n1  000076_jpg.rf.f4dcbf7b9ec8eabb374715182f20e526...    416     416  helmet   \n2  000076_jpg.rf.f4dcbf7b9ec8eabb374715182f20e526...    416     416  helmet   \n3  000011_jpg.rf.3c7aeaeb023a582910a26d213dbfa42a...    416     416  helmet   \n4  000011_jpg.rf.3c7aeaeb023a582910a26d213dbfa42a...    416     416  helmet   \n\n   xmin  ymin  xmax  ymax  \n0   193   163   217   208  \n1   250   167   281   228  \n2   324   357   337   386  \n3   224   217   245   254  \n4    46   231    64   259  ",
      "text/html": "<div>\n<style scoped>\n    .dataframe tbody tr th:only-of-type {\n        vertical-align: middle;\n    }\n\n    .dataframe tbody tr th {\n        vertical-align: top;\n    }\n\n    .dataframe thead th {\n        text-align: right;\n    }\n</style>\n<table border=\"1\" class=\"dataframe\">\n  <thead>\n    <tr style=\"text-align: right;\">\n      <th></th>\n      <th>filename</th>\n      <th>width</th>\n      <th>height</th>\n      <th>class</th>\n      <th>xmin</th>\n      <th>ymin</th>\n      <th>xmax</th>\n      <th>ymax</th>\n    </tr>\n  </thead>\n  <tbody>\n    <tr>\n      <th>0</th>\n      <td>000097_jpg.rf.c5517dee207753214ab5f1f847987bbb...</td>\n      <td>416</td>\n      <td>416</td>\n      <td>helmet</td>\n      <td>193</td>\n      <td>163</td>\n      <td>217</td>\n      <td>208</td>\n    </tr>\n    <tr>\n      <th>1</th>\n      <td>000076_jpg.rf.f4dcbf7b9ec8eabb374715182f20e526...</td>\n      <td>416</td>\n      <td>416</td>\n      <td>helmet</td>\n      <td>250</td>\n      <td>167</td>\n      <td>281</td>\n      <td>228</td>\n    </tr>\n    <tr>\n      <th>2</th>\n      <td>000076_jpg.rf.f4dcbf7b9ec8eabb374715182f20e526...</td>\n      <td>416</td>\n      <td>416</td>\n      <td>helmet</td>\n      <td>324</td>\n      <td>357</td>\n      <td>337</td>\n      <td>386</td>\n    </tr>\n    <tr>\n      <th>3</th>\n      <td>000011_jpg.rf.3c7aeaeb023a582910a26d213dbfa42a...</td>\n      <td>416</td>\n      <td>416</td>\n      <td>helmet</td>\n      <td>224</td>\n      <td>217</td>\n      <td>245</td>\n      <td>254</td>\n    </tr>\n    <tr>\n      <th>4</th>\n      <td>000011_jpg.rf.3c7aeaeb023a582910a26d213dbfa42a...</td>\n      <td>416</td>\n      <td>416</td>\n      <td>helmet</td>\n      <td>46</td>\n      <td>231</td>\n      <td>64</td>\n      <td>259</td>\n    </tr>\n  </tbody>\n</table>\n</div>"
     },
     "execution_count": 37,
     "metadata": {},
     "output_type": "execute_result"
    }
   ],
   "source": [
    "df = pd.read_csv('./docs/_annotations.csv')\n",
    "df.head()"
   ],
   "metadata": {
    "collapsed": false,
    "pycharm": {
     "name": "#%%\n"
    }
   }
  },
  {
   "cell_type": "code",
   "execution_count": 12,
   "outputs": [
    {
     "name": "stdout",
     "output_type": "stream",
     "text": [
      "type <class 'list'>, var : ['level_0', 'index', 'filename', 'width', 'height', 'class', 'xmin', 'ymin', 'xmax', 'ymax']\n"
     ]
    }
   ],
   "source": [
    "var = list(df.columns)\n",
    "print(f\"type {type(var)}, var : {var}\")"
   ],
   "metadata": {
    "collapsed": false,
    "pycharm": {
     "name": "#%%\n"
    }
   }
  },
  {
   "cell_type": "code",
   "execution_count": 15,
   "outputs": [
    {
     "data": {
      "text/plain": "                                            filename  width  height   class  \\\n0  000097_jpg.rf.c5517dee207753214ab5f1f847987bbb...    416     416  helmet   \n1  000076_jpg.rf.f4dcbf7b9ec8eabb374715182f20e526...    416     416  helmet   \n2  000076_jpg.rf.f4dcbf7b9ec8eabb374715182f20e526...    416     416  helmet   \n3  000011_jpg.rf.3c7aeaeb023a582910a26d213dbfa42a...    416     416  helmet   \n4  000011_jpg.rf.3c7aeaeb023a582910a26d213dbfa42a...    416     416  helmet   \n\n   xmin  ymin  xmax  ymax  \n0   193   163   217   208  \n1   250   167   281   228  \n2   324   357   337   386  \n3   224   217   245   254  \n4    46   231    64   259  ",
      "text/html": "<div>\n<style scoped>\n    .dataframe tbody tr th:only-of-type {\n        vertical-align: middle;\n    }\n\n    .dataframe tbody tr th {\n        vertical-align: top;\n    }\n\n    .dataframe thead th {\n        text-align: right;\n    }\n</style>\n<table border=\"1\" class=\"dataframe\">\n  <thead>\n    <tr style=\"text-align: right;\">\n      <th></th>\n      <th>filename</th>\n      <th>width</th>\n      <th>height</th>\n      <th>class</th>\n      <th>xmin</th>\n      <th>ymin</th>\n      <th>xmax</th>\n      <th>ymax</th>\n    </tr>\n  </thead>\n  <tbody>\n    <tr>\n      <th>0</th>\n      <td>000097_jpg.rf.c5517dee207753214ab5f1f847987bbb...</td>\n      <td>416</td>\n      <td>416</td>\n      <td>helmet</td>\n      <td>193</td>\n      <td>163</td>\n      <td>217</td>\n      <td>208</td>\n    </tr>\n    <tr>\n      <th>1</th>\n      <td>000076_jpg.rf.f4dcbf7b9ec8eabb374715182f20e526...</td>\n      <td>416</td>\n      <td>416</td>\n      <td>helmet</td>\n      <td>250</td>\n      <td>167</td>\n      <td>281</td>\n      <td>228</td>\n    </tr>\n    <tr>\n      <th>2</th>\n      <td>000076_jpg.rf.f4dcbf7b9ec8eabb374715182f20e526...</td>\n      <td>416</td>\n      <td>416</td>\n      <td>helmet</td>\n      <td>324</td>\n      <td>357</td>\n      <td>337</td>\n      <td>386</td>\n    </tr>\n    <tr>\n      <th>3</th>\n      <td>000011_jpg.rf.3c7aeaeb023a582910a26d213dbfa42a...</td>\n      <td>416</td>\n      <td>416</td>\n      <td>helmet</td>\n      <td>224</td>\n      <td>217</td>\n      <td>245</td>\n      <td>254</td>\n    </tr>\n    <tr>\n      <th>4</th>\n      <td>000011_jpg.rf.3c7aeaeb023a582910a26d213dbfa42a...</td>\n      <td>416</td>\n      <td>416</td>\n      <td>helmet</td>\n      <td>46</td>\n      <td>231</td>\n      <td>64</td>\n      <td>259</td>\n    </tr>\n  </tbody>\n</table>\n</div>"
     },
     "execution_count": 15,
     "metadata": {},
     "output_type": "execute_result"
    }
   ],
   "source": [
    "#df = df.reset_index(True)\n",
    "df.head()"
   ],
   "metadata": {
    "collapsed": false,
    "pycharm": {
     "name": "#%%\n"
    }
   }
  },
  {
   "cell_type": "code",
   "execution_count": 38,
   "outputs": [],
   "source": [
    "uni_files = list(df.loc[:,\"filename\"].unique())\n",
    "ns = df.loc[:,\"filename\"].nunique()"
   ],
   "metadata": {
    "collapsed": false,
    "pycharm": {
     "name": "#%%\n"
    }
   }
  },
  {
   "cell_type": "code",
   "execution_count": 41,
   "outputs": [
    {
     "name": "stdout",
     "output_type": "stream",
     "text": [
      "10\n"
     ]
    },
    {
     "data": {
      "text/plain": "array(['000097_jpg.rf.c5517dee207753214ab5f1f847987bbb.jpg',\n       '000076_jpg.rf.f4dcbf7b9ec8eabb374715182f20e526.jpg',\n       '000011_jpg.rf.3c7aeaeb023a582910a26d213dbfa42a.jpg',\n       '000008_jpg.rf.d00174cb69229a352e8677a640ec2d86.jpg',\n       '000054_jpg.rf.deb0214b76b3c6c5c7869c9b55ca063b.jpg',\n       '000047_jpg.rf.c6b0a9e1a6642e985347e50d53680d39.jpg',\n       '000084_jpg.rf.9762e56dc4a673cfcafee0a756ded9fe.jpg',\n       '000098_jpg.rf.4c8c126e2003aa2b9d72b1bd00135fbf.jpg',\n       '000034_jpg.rf.5a0ece0fc2b33f07f65618dc987b5d46.jpg',\n       '000073_jpg.rf.16e5b2d347491eca4977cfa211aebdcc.jpg'], dtype=object)"
     },
     "execution_count": 41,
     "metadata": {},
     "output_type": "execute_result"
    }
   ],
   "source": [
    "print(len(uni_files))\n",
    "uni_files"
   ],
   "metadata": {
    "collapsed": false,
    "pycharm": {
     "name": "#%%\n"
    }
   }
  },
  {
   "cell_type": "code",
   "execution_count": 24,
   "outputs": [
    {
     "ename": "AttributeError",
     "evalue": "'numpy.ndarray' object has no attribute 'index'",
     "output_type": "error",
     "traceback": [
      "\u001B[1;31m---------------------------------------------------------------------------\u001B[0m",
      "\u001B[1;31mAttributeError\u001B[0m                            Traceback (most recent call last)",
      "\u001B[1;32m<ipython-input-24-b12d50892d00>\u001B[0m in \u001B[0;36m<module>\u001B[1;34m\u001B[0m\n\u001B[1;32m----> 1\u001B[1;33m \u001B[0mprint\u001B[0m\u001B[1;33m(\u001B[0m\u001B[0muni_files\u001B[0m\u001B[1;33m.\u001B[0m\u001B[0mindex\u001B[0m\u001B[1;33m)\u001B[0m\u001B[1;33m\u001B[0m\u001B[1;33m\u001B[0m\u001B[0m\n\u001B[0m",
      "\u001B[1;31mAttributeError\u001B[0m: 'numpy.ndarray' object has no attribute 'index'"
     ]
    }
   ],
   "source": [
    "print(uni_files.index)"
   ],
   "metadata": {
    "collapsed": false,
    "pycharm": {
     "name": "#%%\n"
    }
   }
  },
  {
   "cell_type": "code",
   "execution_count": 30,
   "outputs": [],
   "source": [
    "new_ser_file = pd.Series(range(1,ns+1), index=uni_files)\n"
   ],
   "metadata": {
    "collapsed": false,
    "pycharm": {
     "name": "#%%\n"
    }
   }
  },
  {
   "cell_type": "code",
   "execution_count": 31,
   "outputs": [],
   "source": [
    "df[\"file_id\"] = df[\"filename\"].map(new_ser_file)"
   ],
   "metadata": {
    "collapsed": false,
    "pycharm": {
     "name": "#%%\n"
    }
   }
  },
  {
   "cell_type": "code",
   "execution_count": 32,
   "outputs": [
    {
     "data": {
      "text/plain": "                                            filename  width  height   class  \\\n0  000097_jpg.rf.c5517dee207753214ab5f1f847987bbb...    416     416  helmet   \n1  000076_jpg.rf.f4dcbf7b9ec8eabb374715182f20e526...    416     416  helmet   \n2  000076_jpg.rf.f4dcbf7b9ec8eabb374715182f20e526...    416     416  helmet   \n3  000011_jpg.rf.3c7aeaeb023a582910a26d213dbfa42a...    416     416  helmet   \n4  000011_jpg.rf.3c7aeaeb023a582910a26d213dbfa42a...    416     416  helmet   \n\n   xmin  ymin  xmax  ymax  file_id  \n0   193   163   217   208        1  \n1   250   167   281   228        2  \n2   324   357   337   386        2  \n3   224   217   245   254        3  \n4    46   231    64   259        3  ",
      "text/html": "<div>\n<style scoped>\n    .dataframe tbody tr th:only-of-type {\n        vertical-align: middle;\n    }\n\n    .dataframe tbody tr th {\n        vertical-align: top;\n    }\n\n    .dataframe thead th {\n        text-align: right;\n    }\n</style>\n<table border=\"1\" class=\"dataframe\">\n  <thead>\n    <tr style=\"text-align: right;\">\n      <th></th>\n      <th>filename</th>\n      <th>width</th>\n      <th>height</th>\n      <th>class</th>\n      <th>xmin</th>\n      <th>ymin</th>\n      <th>xmax</th>\n      <th>ymax</th>\n      <th>file_id</th>\n    </tr>\n  </thead>\n  <tbody>\n    <tr>\n      <th>0</th>\n      <td>000097_jpg.rf.c5517dee207753214ab5f1f847987bbb...</td>\n      <td>416</td>\n      <td>416</td>\n      <td>helmet</td>\n      <td>193</td>\n      <td>163</td>\n      <td>217</td>\n      <td>208</td>\n      <td>1</td>\n    </tr>\n    <tr>\n      <th>1</th>\n      <td>000076_jpg.rf.f4dcbf7b9ec8eabb374715182f20e526...</td>\n      <td>416</td>\n      <td>416</td>\n      <td>helmet</td>\n      <td>250</td>\n      <td>167</td>\n      <td>281</td>\n      <td>228</td>\n      <td>2</td>\n    </tr>\n    <tr>\n      <th>2</th>\n      <td>000076_jpg.rf.f4dcbf7b9ec8eabb374715182f20e526...</td>\n      <td>416</td>\n      <td>416</td>\n      <td>helmet</td>\n      <td>324</td>\n      <td>357</td>\n      <td>337</td>\n      <td>386</td>\n      <td>2</td>\n    </tr>\n    <tr>\n      <th>3</th>\n      <td>000011_jpg.rf.3c7aeaeb023a582910a26d213dbfa42a...</td>\n      <td>416</td>\n      <td>416</td>\n      <td>helmet</td>\n      <td>224</td>\n      <td>217</td>\n      <td>245</td>\n      <td>254</td>\n      <td>3</td>\n    </tr>\n    <tr>\n      <th>4</th>\n      <td>000011_jpg.rf.3c7aeaeb023a582910a26d213dbfa42a...</td>\n      <td>416</td>\n      <td>416</td>\n      <td>helmet</td>\n      <td>46</td>\n      <td>231</td>\n      <td>64</td>\n      <td>259</td>\n      <td>3</td>\n    </tr>\n  </tbody>\n</table>\n</div>"
     },
     "execution_count": 32,
     "metadata": {},
     "output_type": "execute_result"
    }
   ],
   "source": [
    "df.head()"
   ],
   "metadata": {
    "collapsed": false,
    "pycharm": {
     "name": "#%%\n"
    }
   }
  },
  {
   "cell_type": "code",
   "execution_count": 33,
   "outputs": [],
   "source": [
    "obj_id = pd.Series(range(1,df.shape[0]+1))"
   ],
   "metadata": {
    "collapsed": false,
    "pycharm": {
     "name": "#%%\n"
    }
   }
  },
  {
   "cell_type": "code",
   "execution_count": 34,
   "outputs": [
    {
     "data": {
      "text/plain": "                                            filename  width  height   class  \\\n0  000097_jpg.rf.c5517dee207753214ab5f1f847987bbb...    416     416  helmet   \n1  000076_jpg.rf.f4dcbf7b9ec8eabb374715182f20e526...    416     416  helmet   \n2  000076_jpg.rf.f4dcbf7b9ec8eabb374715182f20e526...    416     416  helmet   \n3  000011_jpg.rf.3c7aeaeb023a582910a26d213dbfa42a...    416     416  helmet   \n4  000011_jpg.rf.3c7aeaeb023a582910a26d213dbfa42a...    416     416  helmet   \n\n   xmin  ymin  xmax  ymax  file_id  object_id  \n0   193   163   217   208        1          1  \n1   250   167   281   228        2          2  \n2   324   357   337   386        2          3  \n3   224   217   245   254        3          4  \n4    46   231    64   259        3          5  ",
      "text/html": "<div>\n<style scoped>\n    .dataframe tbody tr th:only-of-type {\n        vertical-align: middle;\n    }\n\n    .dataframe tbody tr th {\n        vertical-align: top;\n    }\n\n    .dataframe thead th {\n        text-align: right;\n    }\n</style>\n<table border=\"1\" class=\"dataframe\">\n  <thead>\n    <tr style=\"text-align: right;\">\n      <th></th>\n      <th>filename</th>\n      <th>width</th>\n      <th>height</th>\n      <th>class</th>\n      <th>xmin</th>\n      <th>ymin</th>\n      <th>xmax</th>\n      <th>ymax</th>\n      <th>file_id</th>\n      <th>object_id</th>\n    </tr>\n  </thead>\n  <tbody>\n    <tr>\n      <th>0</th>\n      <td>000097_jpg.rf.c5517dee207753214ab5f1f847987bbb...</td>\n      <td>416</td>\n      <td>416</td>\n      <td>helmet</td>\n      <td>193</td>\n      <td>163</td>\n      <td>217</td>\n      <td>208</td>\n      <td>1</td>\n      <td>1</td>\n    </tr>\n    <tr>\n      <th>1</th>\n      <td>000076_jpg.rf.f4dcbf7b9ec8eabb374715182f20e526...</td>\n      <td>416</td>\n      <td>416</td>\n      <td>helmet</td>\n      <td>250</td>\n      <td>167</td>\n      <td>281</td>\n      <td>228</td>\n      <td>2</td>\n      <td>2</td>\n    </tr>\n    <tr>\n      <th>2</th>\n      <td>000076_jpg.rf.f4dcbf7b9ec8eabb374715182f20e526...</td>\n      <td>416</td>\n      <td>416</td>\n      <td>helmet</td>\n      <td>324</td>\n      <td>357</td>\n      <td>337</td>\n      <td>386</td>\n      <td>2</td>\n      <td>3</td>\n    </tr>\n    <tr>\n      <th>3</th>\n      <td>000011_jpg.rf.3c7aeaeb023a582910a26d213dbfa42a...</td>\n      <td>416</td>\n      <td>416</td>\n      <td>helmet</td>\n      <td>224</td>\n      <td>217</td>\n      <td>245</td>\n      <td>254</td>\n      <td>3</td>\n      <td>4</td>\n    </tr>\n    <tr>\n      <th>4</th>\n      <td>000011_jpg.rf.3c7aeaeb023a582910a26d213dbfa42a...</td>\n      <td>416</td>\n      <td>416</td>\n      <td>helmet</td>\n      <td>46</td>\n      <td>231</td>\n      <td>64</td>\n      <td>259</td>\n      <td>3</td>\n      <td>5</td>\n    </tr>\n  </tbody>\n</table>\n</div>"
     },
     "execution_count": 34,
     "metadata": {},
     "output_type": "execute_result"
    }
   ],
   "source": [
    "df[\"object_id\"] = obj_id\n",
    "df.head()"
   ],
   "metadata": {
    "collapsed": false,
    "pycharm": {
     "name": "#%%\n"
    }
   }
  },
  {
   "cell_type": "code",
   "execution_count": 35,
   "outputs": [
    {
     "data": {
      "text/plain": "                                                name  width  height   class  \\\n0  000097_jpg.rf.c5517dee207753214ab5f1f847987bbb...    416     416  helmet   \n1  000076_jpg.rf.f4dcbf7b9ec8eabb374715182f20e526...    416     416  helmet   \n2  000076_jpg.rf.f4dcbf7b9ec8eabb374715182f20e526...    416     416  helmet   \n3  000011_jpg.rf.3c7aeaeb023a582910a26d213dbfa42a...    416     416  helmet   \n4  000011_jpg.rf.3c7aeaeb023a582910a26d213dbfa42a...    416     416  helmet   \n\n   xmin  ymin  xmax  ymax  file_id  object_id  \n0   193   163   217   208        1          1  \n1   250   167   281   228        2          2  \n2   324   357   337   386        2          3  \n3   224   217   245   254        3          4  \n4    46   231    64   259        3          5  ",
      "text/html": "<div>\n<style scoped>\n    .dataframe tbody tr th:only-of-type {\n        vertical-align: middle;\n    }\n\n    .dataframe tbody tr th {\n        vertical-align: top;\n    }\n\n    .dataframe thead th {\n        text-align: right;\n    }\n</style>\n<table border=\"1\" class=\"dataframe\">\n  <thead>\n    <tr style=\"text-align: right;\">\n      <th></th>\n      <th>name</th>\n      <th>width</th>\n      <th>height</th>\n      <th>class</th>\n      <th>xmin</th>\n      <th>ymin</th>\n      <th>xmax</th>\n      <th>ymax</th>\n      <th>file_id</th>\n      <th>object_id</th>\n    </tr>\n  </thead>\n  <tbody>\n    <tr>\n      <th>0</th>\n      <td>000097_jpg.rf.c5517dee207753214ab5f1f847987bbb...</td>\n      <td>416</td>\n      <td>416</td>\n      <td>helmet</td>\n      <td>193</td>\n      <td>163</td>\n      <td>217</td>\n      <td>208</td>\n      <td>1</td>\n      <td>1</td>\n    </tr>\n    <tr>\n      <th>1</th>\n      <td>000076_jpg.rf.f4dcbf7b9ec8eabb374715182f20e526...</td>\n      <td>416</td>\n      <td>416</td>\n      <td>helmet</td>\n      <td>250</td>\n      <td>167</td>\n      <td>281</td>\n      <td>228</td>\n      <td>2</td>\n      <td>2</td>\n    </tr>\n    <tr>\n      <th>2</th>\n      <td>000076_jpg.rf.f4dcbf7b9ec8eabb374715182f20e526...</td>\n      <td>416</td>\n      <td>416</td>\n      <td>helmet</td>\n      <td>324</td>\n      <td>357</td>\n      <td>337</td>\n      <td>386</td>\n      <td>2</td>\n      <td>3</td>\n    </tr>\n    <tr>\n      <th>3</th>\n      <td>000011_jpg.rf.3c7aeaeb023a582910a26d213dbfa42a...</td>\n      <td>416</td>\n      <td>416</td>\n      <td>helmet</td>\n      <td>224</td>\n      <td>217</td>\n      <td>245</td>\n      <td>254</td>\n      <td>3</td>\n      <td>4</td>\n    </tr>\n    <tr>\n      <th>4</th>\n      <td>000011_jpg.rf.3c7aeaeb023a582910a26d213dbfa42a...</td>\n      <td>416</td>\n      <td>416</td>\n      <td>helmet</td>\n      <td>46</td>\n      <td>231</td>\n      <td>64</td>\n      <td>259</td>\n      <td>3</td>\n      <td>5</td>\n    </tr>\n  </tbody>\n</table>\n</div>"
     },
     "execution_count": 35,
     "metadata": {},
     "output_type": "execute_result"
    }
   ],
   "source": [
    "df.rename(columns={\"filename\":\"name\"}, inplace=True)\n",
    "df.head()"
   ],
   "metadata": {
    "collapsed": false,
    "pycharm": {
     "name": "#%%\n"
    }
   }
  },
  {
   "cell_type": "code",
   "execution_count": null,
   "outputs": [],
   "source": [],
   "metadata": {
    "collapsed": false,
    "pycharm": {
     "name": "#%%\n"
    }
   }
  }
 ],
 "metadata": {
  "kernelspec": {
   "display_name": "Python 3",
   "language": "python",
   "name": "python3"
  },
  "language_info": {
   "codemirror_mode": {
    "name": "ipython",
    "version": 2
   },
   "file_extension": ".py",
   "mimetype": "text/x-python",
   "name": "python",
   "nbconvert_exporter": "python",
   "pygments_lexer": "ipython2",
   "version": "2.7.6"
  }
 },
 "nbformat": 4,
 "nbformat_minor": 0
}
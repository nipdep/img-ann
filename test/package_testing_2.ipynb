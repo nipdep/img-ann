{
 "cells": [
  {
   "cell_type": "code",
   "execution_count": 3,
   "metadata": {
    "collapsed": true
   },
   "outputs": [],
   "source": [
    "from ImgAnn import Convertor as cnv"
   ]
  },
  {
   "cell_type": "code",
   "execution_count": 4,
   "outputs": [
    {
     "name": "stderr",
     "output_type": "stream",
     "text": [
      "INFO:ImgAnn.operators.operator:      obj_id  image_id  class_id  x_min  y_min  x_max  y_max\n",
      "0          1         1         4    170    114    313    269\n",
      "1          2         1         2     18     84    269    332\n",
      "2          3         2         1    103     31    230    160\n",
      "3          4         2         4     72    240    177    340\n",
      "4          5         2         2    167    228    289    379\n",
      "...      ...       ...       ...    ...    ...    ...    ...\n",
      "2753    2754      1994         2    140    188    216    277\n",
      "2754    2755      1995         2    190    167    291    305\n",
      "2755    2756      1996         2    167    108    268    230\n",
      "2756    2757      1997         2     98    172    187    258\n",
      "2757    2758      1998         2    125    113    209    287\n",
      "\n",
      "[2758 rows x 7 columns]\n",
      "ERROR:ImgAnn.operators.operator:The truth value of a DataFrame is ambiguous. Use a.empty, a.bool(), a.item(), a.any() or a.all().\n",
      "Traceback (most recent call last):\n",
      "  File \"F:\\JetBrain Project Files\\Pycharm\\img-ann\\ImgAnn\\operators\\operator.py\", line 68, in get_annotations\n",
      "    if self.annotations and self.classes:\n",
      "  File \"f:\\jetbrain project files\\pycharm\\img-ann\\venv\\lib\\site-packages\\pandas\\core\\generic.py\", line 1330, in __nonzero__\n",
      "    f\"The truth value of a {type(self).__name__} is ambiguous. \"\n",
      "ValueError: The truth value of a DataFrame is ambiguous. Use a.empty, a.bool(), a.item(), a.any() or a.all().\n"
     ]
    },
    {
     "ename": "TypeError",
     "evalue": "cannot unpack non-iterable NoneType object",
     "output_type": "error",
     "traceback": [
      "\u001B[1;31m---------------------------------------------------------------------------\u001B[0m",
      "\u001B[1;31mTypeError\u001B[0m                                 Traceback (most recent call last)",
      "\u001B[1;32m<ipython-input-4-c2ac25d5eb02>\u001B[0m in \u001B[0;36m<module>\u001B[1;34m\u001B[0m\n\u001B[0;32m      1\u001B[0m cnv.coco2csv('F:\\JetBrain Project Files\\Pycharm\\security-point-object-detecton-Torch\\data\\data',\n\u001B[1;32m----> 2\u001B[1;33m                     'F:\\JetBrain Project Files\\Pycharm\\security-point-object-detecton-Torch\\data\\COCO\\dataset.json','../../data/data.csv')\n\u001B[0m\u001B[0;32m      3\u001B[0m \u001B[1;33m\u001B[0m\u001B[0m\n",
      "\u001B[1;32mF:\\JetBrain Project Files\\Pycharm\\img-ann\\ImgAnn\\convert.py\u001B[0m in \u001B[0;36mcoco2csv\u001B[1;34m(cls, dataset_dir, coco_ann_dir, save_dir)\u001B[0m\n\u001B[0;32m     30\u001B[0m         \u001B[0mcoco_obj\u001B[0m \u001B[1;33m=\u001B[0m \u001B[0mcoco\u001B[0m\u001B[1;33m.\u001B[0m\u001B[0mCOCO\u001B[0m\u001B[1;33m(\u001B[0m\u001B[0mimgdataset\u001B[0m\u001B[1;33m.\u001B[0m\u001B[0mdataset\u001B[0m\u001B[1;33m)\u001B[0m\u001B[1;33m\u001B[0m\u001B[1;33m\u001B[0m\u001B[0m\n\u001B[0;32m     31\u001B[0m         \u001B[0mcoco_obj\u001B[0m\u001B[1;33m.\u001B[0m\u001B[0mextract\u001B[0m\u001B[1;33m(\u001B[0m\u001B[0mcoco_ann_dir\u001B[0m\u001B[1;33m)\u001B[0m\u001B[1;33m\u001B[0m\u001B[1;33m\u001B[0m\u001B[0m\n\u001B[1;32m---> 32\u001B[1;33m         \u001B[0mann\u001B[0m\u001B[1;33m,\u001B[0m \u001B[0mclas\u001B[0m \u001B[1;33m=\u001B[0m \u001B[0mcoco_obj\u001B[0m\u001B[1;33m.\u001B[0m\u001B[0mget_annotations\u001B[0m\u001B[1;33m(\u001B[0m\u001B[1;33m)\u001B[0m\u001B[1;33m\u001B[0m\u001B[1;33m\u001B[0m\u001B[0m\n\u001B[0m\u001B[0;32m     33\u001B[0m \u001B[1;33m\u001B[0m\u001B[0m\n\u001B[0;32m     34\u001B[0m         \u001B[0mcsv_obj\u001B[0m \u001B[1;33m=\u001B[0m \u001B[0mcsv\u001B[0m\u001B[1;33m.\u001B[0m\u001B[0mCSV\u001B[0m\u001B[1;33m(\u001B[0m\u001B[0mimgdataset\u001B[0m\u001B[1;33m)\u001B[0m\u001B[1;33m\u001B[0m\u001B[1;33m\u001B[0m\u001B[0m\n",
      "\u001B[1;31mTypeError\u001B[0m: cannot unpack non-iterable NoneType object"
     ]
    }
   ],
   "source": [
    "cnv.coco2csv('F:\\JetBrain Project Files\\Pycharm\\security-point-object-detecton-Torch\\data\\data',\n",
    "                    'F:\\JetBrain Project Files\\Pycharm\\security-point-object-detecton-Torch\\data\\COCO\\dataset.json','../../data/data.csv')"
   ],
   "metadata": {
    "collapsed": false,
    "pycharm": {
     "name": "#%%\n"
    }
   }
  },
  {
   "cell_type": "code",
   "execution_count": null,
   "outputs": [],
   "source": [],
   "metadata": {
    "collapsed": false,
    "pycharm": {
     "name": "#%%)\n"
    }
   }
  }
 ],
 "metadata": {
  "kernelspec": {
   "display_name": "Python 3",
   "language": "python",
   "name": "python3"
  },
  "language_info": {
   "codemirror_mode": {
    "name": "ipython",
    "version": 2
   },
   "file_extension": ".py",
   "mimetype": "text/x-python",
   "name": "python",
   "nbconvert_exporter": "python",
   "pygments_lexer": "ipython2",
   "version": "2.7.6"
  }
 },
 "nbformat": 4,
 "nbformat_minor": 0
}